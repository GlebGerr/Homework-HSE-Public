{
  "nbformat": 4,
  "nbformat_minor": 0,
  "metadata": {
    "colab": {
      "provenance": [],
      "authorship_tag": "ABX9TyOXhYtIKOchXpa9krsFhBw6",
      "include_colab_link": true
    },
    "kernelspec": {
      "name": "python3",
      "display_name": "Python 3"
    },
    "language_info": {
      "name": "python"
    }
  },
  "cells": [
    {
      "cell_type": "markdown",
      "metadata": {
        "id": "view-in-github",
        "colab_type": "text"
      },
      "source": [
        "<a href=\"https://colab.research.google.com/github/GlebGerr/Homework-HSE-Public/blob/Homework-HSE/HW%201.ipynb\" target=\"_parent\"><img src=\"https://colab.research.google.com/assets/colab-badge.svg\" alt=\"Open In Colab\"/></a>"
      ]
    },
    {
      "cell_type": "code",
      "source": [
        "import json\n",
        "\n",
        "def read_file(filename):\n",
        "    with open(filename, 'r', encoding='utf-8') as file:\n",
        "        lines = file.readlines()\n",
        "\n",
        "        return lines[1:]\n",
        "\n",
        "def parse_data(lines):\n",
        "    purchases = {}\n",
        "    for line in lines:\n",
        "\n",
        "        try:\n",
        "            data = json.loads(line)\n",
        "            user_id = data.get('user_id')\n",
        "            category = data.get('category')\n",
        "            if user_id and category:\n",
        "                purchases[user_id] = category\n",
        "        except json.JSONDecodeError:\n",
        "            print(f\"Ошибка декодирования JSON: {line.strip()}\")\n",
        "    return purchases\n",
        "\n",
        "# Основная функция\n",
        "def main():\n",
        "    filename = r'/content/purchase_log.txt'\n",
        "    lines = read_file(filename)\n",
        "    purchases = parse_data(lines)\n",
        "\n",
        "    for user_id, category in list(purchases.items())[:2]:\n",
        "        print(f'{user_id} \"{category}\"')\n",
        "\n",
        "if __name__ == '__main__':\n",
        "    main()\n"
      ],
      "metadata": {
        "colab": {
          "base_uri": "https://localhost:8080/"
        },
        "id": "p19o0Ot0hxtr",
        "outputId": "23a24c1b-a375-43f4-dba8-78b8e201a04d"
      },
      "execution_count": null,
      "outputs": [
        {
          "output_type": "stream",
          "name": "stdout",
          "text": [
            "1840e0b9d4 \"Продукты\"\n",
            "4e4f90fcfb \"Электроника\"\n"
          ]
        }
      ]
    },
    {
      "cell_type": "code",
      "source": [
        "import json\n",
        "\n",
        "def load_purchases(filename):\n",
        "    purchases = {}\n",
        "    with open(filename, 'r', encoding='utf-8') as file:\n",
        "        for line in file:\n",
        "            try:\n",
        "                data = json.loads(line)\n",
        "                user_id = data.get('user_id')\n",
        "                category = data.get('category')\n",
        "                if user_id and category:\n",
        "                    purchases[user_id] = category\n",
        "            except json.JSONDecodeError:\n",
        "                continue\n",
        "    return purchases\n",
        "\n",
        "def process_visits(purchases, visit_filename, funnel_filename):\n",
        "    with open(visit_filename, 'r', encoding='utf-8') as visit_file, \\\n",
        "         open(funnel_filename, 'w', encoding='utf-8') as funnel_file:\n",
        "        funnel_file.write('user_id,source,category\\n')\n",
        "\n",
        "        next(visit_file)\n",
        "\n",
        "        for line in visit_file:\n",
        "            user_id, source = line.strip().split(',')\n",
        "\n",
        "            if user_id in purchases:\n",
        "                category = purchases[user_id]\n",
        "                funnel_file.write(f'{user_id},{source},{category}\\n')\n",
        "\n",
        "# Основная функция\n",
        "def main():\n",
        "    purchase_filename = 'purchase_log.txt'\n",
        "    purchases = load_purchases(purchase_filename)\n",
        "\n",
        "    visit_filename = 'visit_log.csv'\n",
        "    funnel_filename = 'funnel.csv'\n",
        "    process_visits(purchases, visit_filename, funnel_filename)\n",
        "\n",
        "if __name__ == '__main__':\n",
        "    main()"
      ],
      "metadata": {
        "id": "o6VyRZAHiwRP"
      },
      "execution_count": null,
      "outputs": []
    }
  ]
}